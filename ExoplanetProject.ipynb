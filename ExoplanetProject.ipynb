{
 "cells": [
  {
   "cell_type": "code",
   "execution_count": 93,
   "id": "5229efe7",
   "metadata": {},
   "outputs": [],
   "source": [
    "import numpy as np\n",
    "from matplotlib import pylab as plt"
   ]
  },
  {
   "cell_type": "code",
   "execution_count": 94,
   "id": "b9c6ca1a",
   "metadata": {},
   "outputs": [
    {
     "data": {
      "text/html": [
       "<div>\n",
       "<style scoped>\n",
       "    .dataframe tbody tr th:only-of-type {\n",
       "        vertical-align: middle;\n",
       "    }\n",
       "\n",
       "    .dataframe tbody tr th {\n",
       "        vertical-align: top;\n",
       "    }\n",
       "\n",
       "    .dataframe thead th {\n",
       "        text-align: right;\n",
       "    }\n",
       "</style>\n",
       "<table border=\"1\" class=\"dataframe\">\n",
       "  <thead>\n",
       "    <tr style=\"text-align: right;\">\n",
       "      <th></th>\n",
       "      <th>P</th>\n",
       "      <th>Rp</th>\n",
       "      <th>SNR</th>\n",
       "      <th>rhostar</th>\n",
       "      <th>Rs</th>\n",
       "      <th>CDPP6</th>\n",
       "      <th>planet</th>\n",
       "      <th>system</th>\n",
       "    </tr>\n",
       "  </thead>\n",
       "  <tbody>\n",
       "    <tr>\n",
       "      <th>0</th>\n",
       "      <td>3.487688</td>\n",
       "      <td>5.82</td>\n",
       "      <td>350.0</td>\n",
       "      <td>0.57</td>\n",
       "      <td>1.65</td>\n",
       "      <td>58.043</td>\n",
       "      <td>46.01</td>\n",
       "      <td>46.0</td>\n",
       "    </tr>\n",
       "    <tr>\n",
       "      <th>1</th>\n",
       "      <td>6.029807</td>\n",
       "      <td>1.22</td>\n",
       "      <td>11.5</td>\n",
       "      <td>0.67</td>\n",
       "      <td>1.65</td>\n",
       "      <td>58.043</td>\n",
       "      <td>46.02</td>\n",
       "      <td>46.0</td>\n",
       "    </tr>\n",
       "    <tr>\n",
       "      <th>2</th>\n",
       "      <td>0.837491</td>\n",
       "      <td>1.48</td>\n",
       "      <td>188.7</td>\n",
       "      <td>1.21</td>\n",
       "      <td>1.08</td>\n",
       "      <td>22.879</td>\n",
       "      <td>72.01</td>\n",
       "      <td>72.0</td>\n",
       "    </tr>\n",
       "    <tr>\n",
       "      <th>3</th>\n",
       "      <td>45.294216</td>\n",
       "      <td>2.33</td>\n",
       "      <td>134.7</td>\n",
       "      <td>1.26</td>\n",
       "      <td>1.08</td>\n",
       "      <td>22.879</td>\n",
       "      <td>72.02</td>\n",
       "      <td>72.0</td>\n",
       "    </tr>\n",
       "    <tr>\n",
       "      <th>4</th>\n",
       "      <td>84.687651</td>\n",
       "      <td>2.95</td>\n",
       "      <td>95.1</td>\n",
       "      <td>0.75</td>\n",
       "      <td>1.57</td>\n",
       "      <td>22.190</td>\n",
       "      <td>89.01</td>\n",
       "      <td>89.0</td>\n",
       "    </tr>\n",
       "    <tr>\n",
       "      <th>...</th>\n",
       "      <td>...</td>\n",
       "      <td>...</td>\n",
       "      <td>...</td>\n",
       "      <td>...</td>\n",
       "      <td>...</td>\n",
       "      <td>...</td>\n",
       "      <td>...</td>\n",
       "      <td>...</td>\n",
       "    </tr>\n",
       "    <tr>\n",
       "      <th>1758</th>\n",
       "      <td>91.940206</td>\n",
       "      <td>2.58</td>\n",
       "      <td>34.4</td>\n",
       "      <td>1.06</td>\n",
       "      <td>1.18</td>\n",
       "      <td>69.414</td>\n",
       "      <td>351.04</td>\n",
       "      <td>351.0</td>\n",
       "    </tr>\n",
       "    <tr>\n",
       "      <th>1759</th>\n",
       "      <td>8.719843</td>\n",
       "      <td>1.50</td>\n",
       "      <td>22.7</td>\n",
       "      <td>1.21</td>\n",
       "      <td>1.18</td>\n",
       "      <td>69.414</td>\n",
       "      <td>351.05</td>\n",
       "      <td>351.0</td>\n",
       "    </tr>\n",
       "    <tr>\n",
       "      <th>1760</th>\n",
       "      <td>7.008218</td>\n",
       "      <td>1.27</td>\n",
       "      <td>19.2</td>\n",
       "      <td>1.06</td>\n",
       "      <td>1.18</td>\n",
       "      <td>69.414</td>\n",
       "      <td>351.06</td>\n",
       "      <td>351.0</td>\n",
       "    </tr>\n",
       "    <tr>\n",
       "      <th>1761</th>\n",
       "      <td>124.922516</td>\n",
       "      <td>3.31</td>\n",
       "      <td>24.4</td>\n",
       "      <td>0.04</td>\n",
       "      <td>1.18</td>\n",
       "      <td>69.414</td>\n",
       "      <td>351.07</td>\n",
       "      <td>351.0</td>\n",
       "    </tr>\n",
       "    <tr>\n",
       "      <th>1762</th>\n",
       "      <td>14.449109</td>\n",
       "      <td>1.20</td>\n",
       "      <td>8.3</td>\n",
       "      <td>1.04</td>\n",
       "      <td>1.18</td>\n",
       "      <td>69.414</td>\n",
       "      <td>351.08</td>\n",
       "      <td>351.0</td>\n",
       "    </tr>\n",
       "  </tbody>\n",
       "</table>\n",
       "<p>1754 rows × 8 columns</p>\n",
       "</div>"
      ],
      "text/plain": [
       "               P    Rp    SNR  rhostar    Rs   CDPP6  planet  system\n",
       "0       3.487688  5.82  350.0     0.57  1.65  58.043   46.01    46.0\n",
       "1       6.029807  1.22   11.5     0.67  1.65  58.043   46.02    46.0\n",
       "2       0.837491  1.48  188.7     1.21  1.08  22.879   72.01    72.0\n",
       "3      45.294216  2.33  134.7     1.26  1.08  22.879   72.02    72.0\n",
       "4      84.687651  2.95   95.1     0.75  1.57  22.190   89.01    89.0\n",
       "...          ...   ...    ...      ...   ...     ...     ...     ...\n",
       "1758   91.940206  2.58   34.4     1.06  1.18  69.414  351.04   351.0\n",
       "1759    8.719843  1.50   22.7     1.21  1.18  69.414  351.05   351.0\n",
       "1760    7.008218  1.27   19.2     1.06  1.18  69.414  351.06   351.0\n",
       "1761  124.922516  3.31   24.4     0.04  1.18  69.414  351.07   351.0\n",
       "1762   14.449109  1.20    8.3     1.04  1.18  69.414  351.08   351.0\n",
       "\n",
       "[1754 rows x 8 columns]"
      ]
     },
     "execution_count": 94,
     "metadata": {},
     "output_type": "execute_result"
    }
   ],
   "source": [
    "import pandas as pd\n",
    "\n",
    "df = pd.read_csv(\"https://astro.uchicago.edu/~andrey/classes/a205/data/kepler_data.txt\", sep=\"\\t\", index_col=[0])\n",
    "\n",
    "df"
   ]
  },
  {
   "cell_type": "code",
   "execution_count": 95,
   "id": "98bc6ff7",
   "metadata": {},
   "outputs": [],
   "source": [
    "\n",
    "\n",
    "class PlanetarySystem:\n",
    "    \n",
    "    def __init__(self, system, period, prad, strad, rhostar, SNR, CDPP6, planet):\n",
    "        self.system = system\n",
    "        self.period = period\n",
    "        self.prad = prad\n",
    "        self.strad = strad\n",
    "        self.rhostar = rhostar\n",
    "        self.SNR = SNR\n",
    "        self.CDPP6 = CDPP6\n",
    "        self.planet = planet\n",
    "        self.snr = self.snr()\n",
    "        self.snr_cut()\n",
    "        \n",
    "            \n",
    "            \n",
    "            \n",
    "    def snr(self):\n",
    "        areafrac = ((self.prad * 6.371e6) / (self.strad * 696.34e6))**2\n",
    "    \n",
    "        # T in hrs, eq. 2 in Weiss et al. 2018\n",
    "        T = 13. * (self.period/365.)**0.33 * (self.rhostar / 1.41)**(-0.33)\n",
    "\n",
    "        # Compute SNR\n",
    "        num = areafrac * np.sqrt(3.5/(p/365.))\n",
    "        den = (self.CDPP6 /1e6) * np.sqrt(6. / T)\n",
    "\n",
    "        snr = num / den\n",
    "        return snr\n",
    "\n",
    "\n",
    "    \n",
    "    def snr_cut(self, snr_thresh=10):\n",
    "        cut = self.snr > snr_thresh\n",
    "        self.period_cut = self.period[cut]\n",
    "        self.prad_cut = self.prad[cut]\n",
    "        self.strad_cut = self.strad[cut]\n",
    "        self.rhostar_cut = self.rhostar[cut]\n",
    "        self.CDPP6_cut = self.CDPP6[cut]\n",
    "        self.planet_cut = self.planet[cut]\n",
    "        self.snr_cut = self.SNR[cut]\n",
    " \n",
    "    \n",
    "    "
   ]
  },
  {
   "cell_type": "code",
   "execution_count": 96,
   "id": "cf507d18",
   "metadata": {},
   "outputs": [],
   "source": [
    "total_PS =[]\n",
    "for system in df.system.unique():\n",
    "    slc = df[df.system==system]\n",
    "    p     = slc[\"P\"]\n",
    "    rp    = slc[\"Rp\"]\n",
    "    rs    = slc[\"Rs\"]\n",
    "    rhos  = slc[\"rhostar\"]\n",
    "    CDPP6 = slc[\"CDPP6\"]\n",
    "    SNR = slc[\"SNR\"] \n",
    "    planet = slc[\"planet\"]\n",
    "    PS = PlanetarySystem(df.system, p, rp, rs, rhos, SNR, CDPP6, planet)\n",
    "    total_PS.append(PS)"
   ]
  },
  {
   "cell_type": "code",
   "execution_count": 97,
   "id": "0685ff39",
   "metadata": {},
   "outputs": [],
   "source": [
    "from scipy.stats import pearsonr\n",
    "\n",
    "\n",
    "class Galaxy:\n",
    "    def __init__(self, total_PS):\n",
    "        self.rj = np.array([])\n",
    "        self.rj1 = np.array([])\n",
    "        self.total_PS = total_PS\n",
    "        self.corrl_co = 0\n",
    "        self.pval = 0\n",
    "        \n",
    "    def vectors(self):\n",
    "        '''Function to calculate Rj and Rj+1 for galaxy\n",
    "        \n",
    "        Returns Rj and Rj+1\n",
    "        '''\n",
    "        for system in self.total_PS:\n",
    "            periods = np.array(system.period_cut)\n",
    "            radii = np.array(system.prad_cut)\n",
    "            \n",
    "            if len(periods) > 1:\n",
    "                isort = np.argsort(periods)\n",
    "                sorted_radii = radii[isort]\n",
    "        \n",
    "                self.rj = np.append(self.rj, sorted_radii[:-1])\n",
    "                self.rj1 = np.append(self.rj1, sorted_radii[1:])\n",
    "\n",
    "    \n",
    "    def correlation_coeff(self):\n",
    "        '''Calculates sample correlation coefficient\n",
    "        \n",
    "        x1, x2 are lists of values; their lengths, \n",
    "        means, variances, and std deviations are calculated\n",
    "        \n",
    "        Returns correlation coefficient'''\n",
    "        self.corrl_co, self.pval = pearsonr(self.rj, self.rj1)\n",
    "\n",
    "        \n",
    "    def bootstrap_unc(self, ns = 1000):\n",
    "        '''Calculates ns bootstrap samples for samples rj and rj+1'''\n",
    "        nx = self.rj.size\n",
    "        ir = np.random.randint(nx, size=nx*ns)\n",
    "        xbs, ybs = self.rj[ir].reshape(ns, nx), self.rj1[ir].reshape(ns,nx)\n",
    "        self.rbs = np.zeros(ns)\n",
    "        for i in range(ns):\n",
    "            mx, my = np.mean(xbs[i]), np.mean(ybs[i]) \n",
    "            self.rbs[i] = np.sum((xbs[i]-mx)*(ybs[i]-my)) / (np.sum((xbs[i]-mx)**2)*np.sum((ybs[i]-my)**2))**0.5\n",
    "        self.rmean, self.rstd = np.mean(self.rbs), np.std(self.rbs, ddof=1)"
   ]
  },
  {
   "cell_type": "code",
   "execution_count": 98,
   "id": "7de8481b",
   "metadata": {},
   "outputs": [
    {
     "name": "stdout",
     "output_type": "stream",
     "text": [
      "0.46258867759198696 7.184876174621253e-48\n"
     ]
    },
    {
     "data": {
      "image/png": "[encoded data removed]",
      "text/plain": [
       "<Figure size 720x720 with 1 Axes>"
      ]
     },
     "metadata": {
      "needs_background": "light"
     },
     "output_type": "display_data"
    }
   ],
   "source": [
    "galaxy = Galaxy(total_PS)\n",
    "galaxy.vectors()\n",
    "plt.figure(figsize=(10,10))\n",
    "plt.scatter(galaxy.rj, galaxy.rj1)\n",
    "plt.xlabel('Rj', fontsize=12)\n",
    "plt.ylabel('Rj+1', fontsize=12)\n",
    "plt.yscale(\"log\")\n",
    "plt.xscale(\"log\")\n",
    "plt.ylim(0.25, 16)\n",
    "plt.xlim(0.25,16)\n",
    "plt.plot([0,2,4,16],[0,2,4,16], label='y=x')\n",
    "plt.legend()\n",
    "\n",
    "galaxy.correlation_coeff()\n",
    "print(galaxy.corrl_co, galaxy.pval)\n",
    "plt.show()"
   ]
  },
  {
   "cell_type": "code",
   "execution_count": 99,
   "id": "99b60b2c",
   "metadata": {
    "scrolled": true
   },
   "outputs": [],
   "source": [
    "import copy\n",
    "import random as ran\n",
    "total_PS_ = copy.deepcopy(total_PS)\n",
    "galaxies = []\n",
    "\n",
    "def galaxy_boot(radii_list, ns=1000, cut=False):\n",
    "        '''Creates mock galaxy from bootstrap method and find correlation \n",
    "        coefficiants and p-values'''\n",
    "        nx = radii_list.size\n",
    "        ir = np.random.randint(nx, size=nx*ns)\n",
    "        \n",
    "        correlation_list = []\n",
    "        p_list = []\n",
    "        for i in range(ns):\n",
    "            galaxy_rj = []\n",
    "            galaxy_rj1 = []\n",
    "            for system in total_PS_:\n",
    "                radiis = []\n",
    "                if cut:\n",
    "                    val = system.prad_cut\n",
    "                else:\n",
    "                    val = system.prad\n",
    "                for j in range(len(val)):\n",
    "                    radiis.append(radii_list[np.random.choice(ir)])\n",
    "                if len(radiis) > 1:\n",
    "                    galaxy_rj = np.append(galaxy_rj, radiis[:-1])\n",
    "                    galaxy_rj1 = np.append(galaxy_rj1, radiis[1:])\n",
    "            corrl_co, pval = pearsonr(galaxy_rj, galaxy_rj1)\n",
    "            correlation_list.append(corrl_co)\n",
    "            p_list.append(pval)\n",
    "                \n",
    "        return correlation_list, p_list\n",
    "\n",
    "gal_pradii = np.array([])\n",
    "gal_pradii_cut = np.array([])\n",
    "for system in total_PS_: \n",
    "    gal_pradii_cut = np.append(gal_pradii, system.prad_cut)\n",
    "for system in total_PS_: \n",
    "    gal_pradii = np.append(gal_pradii, system.prad)\n",
    "correlation_list, p_list = galaxy_boot(gal_pradii, cut=False)\n",
    "correlation_list_cut, p_list_cut = galaxy_boot(gal_pradii_cut, cut=True)"
   ]
  },
  {
   "cell_type": "code",
   "execution_count": 100,
   "id": "7837e1a7",
   "metadata": {},
   "outputs": [
    {
     "data": {
      "image/png": "[encoded data removed]",
      "text/plain": [
       "<Figure size 432x288 with 1 Axes>"
      ]
     },
     "metadata": {
      "needs_background": "light"
     },
     "output_type": "display_data"
    },
    {
     "data": {
      "image/png": "[encoded data removed]",
      "text/plain": [
       "<Figure size 432x288 with 1 Axes>"
      ]
     },
     "metadata": {
      "needs_background": "light"
     },
     "output_type": "display_data"
    }
   ],
   "source": [
    "def plot_corrl(values, Title):\n",
    "        plt.hist(values, bins = 'auto', label= 'Bootstrap')\n",
    "        plt.vlines(galaxy.corrl_co, 0, 120, color='orange', label='Observed')\n",
    "        plt.title(Title)\n",
    "        plt.legend()\n",
    "        plt.show()\n",
    "        \n",
    "        \n",
    "plot_corrl(correlation_list, 'Correlations Uncut')\n",
    "\n",
    "def plot_pvals(values, Title):\n",
    "        x = np.geomspace(10**-60, 1, 100)\n",
    "        plt.hist(values, bins = x, label='Bootstrap')\n",
    "        plt.vlines(galaxy.pval,0, 800, color='orange', label='Observed')\n",
    "        plt.xscale(\"log\")\n",
    "        plt.title(Title)\n",
    "        plt.legend()\n",
    "        plt.show\n",
    "\n",
    "plot_pvals(p_list, 'P-Values Uncut')"
   ]
  },
  {
   "cell_type": "code",
   "execution_count": 101,
   "id": "f9a52e3e",
   "metadata": {},
   "outputs": [
    {
     "name": "stdout",
     "output_type": "stream",
     "text": [
      "Standard deviation of correlation coefficients: 0.030119828149526746\n"
     ]
    },
    {
     "data": {
      "image/png": "[encoded data removed]",
      "text/plain": [
       "<Figure size 432x288 with 1 Axes>"
      ]
     },
     "metadata": {
      "needs_background": "light"
     },
     "output_type": "display_data"
    }
   ],
   "source": [
    "plot_pvals(p_list_cut, 'P-Values Cut')\n",
    "\n",
    "std = np.std(correlation_list)\n",
    "print(f\"Standard deviation of correlation coefficients: {std}\" )"
   ]
  },
  {
   "cell_type": "code",
   "execution_count": 102,
   "id": "60f3adb4",
   "metadata": {},
   "outputs": [
    {
     "data": {
      "image/png": "[encoded data removed]",
      "text/plain": [
       "<Figure size 432x288 with 1 Axes>"
      ]
     },
     "metadata": {
      "needs_background": "light"
     },
     "output_type": "display_data"
    }
   ],
   "source": [
    "plot_corrl(correlation_list_cut, 'Correlations Cut')"
   ]
  },
  {
   "cell_type": "code",
   "execution_count": 103,
   "id": "a429b13b",
   "metadata": {},
   "outputs": [
    {
     "data": {
      "text/plain": [
       "'The SNR cut and normal values seem to be surprisingly quite similar. The p-values graphs look almost \\nexactly the same, but with such small values, the p-values most likely would not have changed much anyway.\\nThe correlation values histogram, however, does seem to have a noticable change. The cut correlation values\\nare more Gaussian and fit more into a curve, with the regular histogram being a bit more deviated with how\\nits data flows throughout the graph. This change seems to agree with the research paper, as it appears\\nthe second graph group of correlation coefficients appear smoother and more Gaussian, and the p-values are again\\nsimilar to the original data.\\n\\n'"
      ]
     },
     "execution_count": 103,
     "metadata": {},
     "output_type": "execute_result"
    }
   ],
   "source": [
    "'''The SNR cut and normal values seem to be surprisingly quite similar. The p-values graphs look almost \n",
    "exactly the same, but with such small values, the p-values most likely would not have changed much anyway.\n",
    "The correlation values histogram, however, does seem to have a noticable change. The cut correlation values\n",
    "are more Gaussian and fit more into a curve, with the regular histogram being a bit more deviated with how\n",
    "its data flows throughout the graph. This change seems to agree with the research paper, as it appears\n",
    "the second graph group of correlation coefficients appear smoother and more Gaussian, and the p-values are again\n",
    "similar to the original data.\n",
    "\n",
    "'''"
   ]
  }
 ],
 "metadata": {
  "kernelspec": {
   "display_name": "Python 3 (ipykernel)",
   "language": "python",
   "name": "python3"
  },
  "language_info": {
   "codemirror_mode": {
    "name": "ipython",
    "version": 3
   },
   "file_extension": ".py",
   "mimetype": "text/x-python",
   "name": "python",
   "nbconvert_exporter": "python",
   "pygments_lexer": "ipython3",
   "version": "3.9.12"
  }
 },
 "nbformat": 4,
 "nbformat_minor": 5
}
